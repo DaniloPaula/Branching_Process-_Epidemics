{
 "cells": [
  {
   "cell_type": "code",
   "execution_count": 1,
   "metadata": {},
   "outputs": [],
   "source": [
    "import numpy as np\n",
    "import pandas as pd\n",
    "import math"
   ]
  },
  {
   "cell_type": "markdown",
   "metadata": {},
   "source": [
    "# Algoritmo para simular o processo de ramificação"
   ]
  },
  {
   "cell_type": "code",
   "execution_count": 75,
   "metadata": {},
   "outputs": [],
   "source": [
    "# Inicializamos as variaveis\n",
    "NUSP = 9079703\n",
    "theta1 = 0.3\n",
    "theta2 = 1.3\n",
    "M = 20\n",
    "X = [None]*(M+1)\n",
    "X[0] = 10\n",
    "n = 0\n",
    "# np.random.seed(NUSP)"
   ]
  },
  {
   "cell_type": "code",
   "execution_count": 76,
   "metadata": {},
   "outputs": [],
   "source": [
    "# Criação da Poisson\n",
    "def dist_poisson(k, theta):\n",
    "    return ((np.exp(-theta))*(theta**k))/math.factorial(k)"
   ]
  },
  {
   "cell_type": "code",
   "execution_count": 77,
   "metadata": {},
   "outputs": [],
   "source": [
    "# Funcao que retorna o menor indice no qual a soma dos pks da menor que o valor de U\n",
    "def return_min_index_sum_pk(p, U, theta):\n",
    "    i = 0\n",
    "    while (U > p):\n",
    "        i += 1\n",
    "        p += dist_poisson(i, theta)\n",
    "        \n",
    "    return i"
   ]
  },
  {
   "cell_type": "code",
   "execution_count": 78,
   "metadata": {},
   "outputs": [],
   "source": [
    "while((X[n] != 0) & (n <= M-1)):\n",
    "    n += 1\n",
    "    j = 1\n",
    "    X[n] = 0\n",
    "    \n",
    "    while(j <= X[n-1]):\n",
    "        U = np.random.uniform(0, 1)\n",
    "        p = dist_poisson(0, theta1)\n",
    "        minimo = return_min_index_sum_pk(p, U, theta1)\n",
    "        X[n] += minimo\n",
    "        j += 1"
   ]
  },
  {
   "cell_type": "code",
   "execution_count": 79,
   "metadata": {},
   "outputs": [
    {
     "data": {
      "text/plain": [
       "2"
      ]
     },
     "execution_count": 79,
     "metadata": {},
     "output_type": "execute_result"
    }
   ],
   "source": [
    "n"
   ]
  },
  {
   "cell_type": "code",
   "execution_count": 80,
   "metadata": {},
   "outputs": [
    {
     "data": {
      "text/plain": [
       "[10,\n",
       " 2,\n",
       " 0,\n",
       " None,\n",
       " None,\n",
       " None,\n",
       " None,\n",
       " None,\n",
       " None,\n",
       " None,\n",
       " None,\n",
       " None,\n",
       " None,\n",
       " None,\n",
       " None,\n",
       " None,\n",
       " None,\n",
       " None,\n",
       " None,\n",
       " None,\n",
       " None]"
      ]
     },
     "execution_count": 80,
     "metadata": {},
     "output_type": "execute_result"
    }
   ],
   "source": [
    "X"
   ]
  },
  {
   "cell_type": "markdown",
   "metadata": {},
   "source": [
    "# Simulação do modelo simplificado de epidemia"
   ]
  },
  {
   "cell_type": "code",
   "execution_count": 30,
   "metadata": {},
   "outputs": [],
   "source": [
    "# Inicializamos as variaveis\n",
    "NUSP = 9079703\n",
    "alpha1 = 0.9\n",
    "alpha2 = 0.1\n",
    "p = 0.7\n",
    "M = 20\n",
    "X = [None]*(M+1)\n",
    "X[0] = 10\n",
    "n = 0\n",
    "# np.random.seed(NUSP)"
   ]
  },
  {
   "cell_type": "code",
   "execution_count": 31,
   "metadata": {},
   "outputs": [],
   "source": [
    "def dist_geom(k, alpha):\n",
    "    return (1 - alpha)*(alpha**k)"
   ]
  },
  {
   "cell_type": "code",
   "execution_count": 32,
   "metadata": {},
   "outputs": [],
   "source": [
    "def indicator_function(p, U):\n",
    "    if(U <= p):\n",
    "        return 1\n",
    "    return 0"
   ]
  },
  {
   "cell_type": "code",
   "execution_count": 33,
   "metadata": {},
   "outputs": [],
   "source": [
    "# Funcao que retorna o menor indice no qual a soma dos pks da menor que o valor de U\n",
    "def return_min_index_sum_pk(p, U, alpha):\n",
    "    i = 0\n",
    "    while (U > p):\n",
    "        i += 1\n",
    "        p += dist_geom(i, alpha)\n",
    "        \n",
    "    return i"
   ]
  },
  {
   "cell_type": "code",
   "execution_count": 34,
   "metadata": {},
   "outputs": [],
   "source": [
    "while((X[n] != 0) & (n <= M-1)):\n",
    "    n += 1\n",
    "    X[n] = 0\n",
    "    \n",
    "    for i in range(1, X[n-1]):\n",
    "        k = 0\n",
    "        U = np.random.uniform(0, 1)\n",
    "        q = dist_geom(0, alpha1)\n",
    "        minimo = return_min_index_sum_pk(q, U, alpha1)\n",
    "        S = 0\n",
    "        for j in range(1, minimo):\n",
    "            U = np.random.uniform(0, 1)\n",
    "            S += indicator_function(q, U)\n",
    "        X[n] += S"
   ]
  },
  {
   "cell_type": "code",
   "execution_count": 35,
   "metadata": {},
   "outputs": [
    {
     "data": {
      "text/plain": [
       "6"
      ]
     },
     "execution_count": 35,
     "metadata": {},
     "output_type": "execute_result"
    }
   ],
   "source": [
    "n"
   ]
  },
  {
   "cell_type": "code",
   "execution_count": 36,
   "metadata": {},
   "outputs": [
    {
     "data": {
      "text/plain": [
       "[10,\n",
       " 6,\n",
       " 5,\n",
       " 3,\n",
       " 7,\n",
       " 5,\n",
       " 0,\n",
       " None,\n",
       " None,\n",
       " None,\n",
       " None,\n",
       " None,\n",
       " None,\n",
       " None,\n",
       " None,\n",
       " None,\n",
       " None,\n",
       " None,\n",
       " None,\n",
       " None,\n",
       " None]"
      ]
     },
     "execution_count": 36,
     "metadata": {},
     "output_type": "execute_result"
    }
   ],
   "source": [
    "X"
   ]
  },
  {
   "cell_type": "code",
   "execution_count": null,
   "metadata": {},
   "outputs": [],
   "source": []
  }
 ],
 "metadata": {
  "kernelspec": {
   "display_name": "Python 3",
   "language": "python",
   "name": "python3"
  },
  "language_info": {
   "codemirror_mode": {
    "name": "ipython",
    "version": 3
   },
   "file_extension": ".py",
   "mimetype": "text/x-python",
   "name": "python",
   "nbconvert_exporter": "python",
   "pygments_lexer": "ipython3",
   "version": "3.7.6"
  }
 },
 "nbformat": 4,
 "nbformat_minor": 4
}
